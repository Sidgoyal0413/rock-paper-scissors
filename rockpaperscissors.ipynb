import random

choices=["rock", "paper", "scissors"]
tie=0
user_score=0
computer=0
while True:

    user=input("Enter rock, paper, or scissors (or 'quit' to stop): ").lower()
    if user=="quit":
        print("Thanks for playing!")
        print("\nFinal Scores:")
        print(f"You: {user_score}")
        print(f"Computer: {computer}")
        print(f"Ties: {tie}")
        break
    if user not in choices:
        print("Invalid choice. Try again!")
        continue

    computer_choice=random.choice(choices)
    print(f"Computer chose: {computer_choice}")

    if user==computer_choice:
        print("It's a tie!")
        tie=tie+1
    elif (user=="rock" and computer_choice == "scissors") or \
         (user=="paper" and computer_choice == "rock") or \
         (user=="scissors" and computer_choice == "paper"):
        print("You win! 🎉")
        user_score=user_score+1
    else:
        print("Computer wins! 💻")
        computer=computer+1

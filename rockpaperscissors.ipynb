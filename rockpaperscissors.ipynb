{
  "nbformat": 4,
  "nbformat_minor": 0,
  "metadata": {
    "colab": {
      "provenance": [],
      "authorship_tag": "ABX9TyOc/j6i5MnXDkPiB0zyYJZH",
      "include_colab_link": true
    },
    "kernelspec": {
      "name": "python3",
      "display_name": "Python 3"
    },
    "language_info": {
      "name": "python"
    }
  },
  "cells": [
    {
      "cell_type": "markdown",
      "metadata": {
        "id": "view-in-github",
        "colab_type": "text"
      },
      "source": [
        "<a href=\"https://colab.research.google.com/github/Sidgoyal0413/rock-paper-scissors/blob/main/rockpaperscissors.ipynb\" target=\"_parent\"><img src=\"https://colab.research.google.com/assets/colab-badge.svg\" alt=\"Open In Colab\"/></a>"
      ]
    },
    {
      "cell_type": "code",
      "execution_count": 3,
      "metadata": {
        "colab": {
          "base_uri": "https://localhost:8080/"
        },
        "id": "qEO_-i2cau_F",
        "outputId": "ab883cd3-2e04-4e77-d60c-5dc36acf6106"
      },
      "outputs": [
        {
          "output_type": "stream",
          "name": "stdout",
          "text": [
            "Enter rock, paper, or scissors (or 'quit' to stop): rock\n",
            "Computer chose: rock\n",
            "It's a tie!\n",
            "Enter rock, paper, or scissors (or 'quit' to stop): rock\n",
            "Computer chose: rock\n",
            "It's a tie!\n",
            "Enter rock, paper, or scissors (or 'quit' to stop): quit\n",
            "Thanks for playing!\n",
            "\n",
            "Final Scores:\n",
            "You: 0\n",
            "Computer: 0\n",
            "Ties: 2\n"
          ]
        }
      ],
      "source": [
        "import random\n",
        "\n",
        "choices=[\"rock\", \"paper\", \"scissors\"]\n",
        "tie=0\n",
        "user_score=0\n",
        "computer=0\n",
        "while True:\n",
        "\n",
        "    user=input(\"Enter rock, paper, or scissors (or 'quit' to stop): \").lower()\n",
        "    if user==\"quit\":\n",
        "        print(\"Thanks for playing!\")\n",
        "        print(\"\\nFinal Scores:\")\n",
        "        print(f\"You: {user_score}\")\n",
        "        print(f\"Computer: {computer}\")\n",
        "        print(f\"Ties: {tie}\")\n",
        "        break\n",
        "    if user not in choices:\n",
        "        print(\"Invalid choice. Try again!\")\n",
        "        continue\n",
        "\n",
        "    computer_choice=random.choice(choices)\n",
        "    print(f\"Computer chose: {computer_choice}\")\n",
        "\n",
        "    if user==computer_choice:\n",
        "        print(\"It's a tie!\")\n",
        "        tie=tie+1\n",
        "    elif (user==\"rock\" and computer_choice == \"scissors\") or \\\n",
        "         (user==\"paper\" and computer_choice == \"rock\") or \\\n",
        "         (user==\"scissors\" and computer_choice == \"paper\"):\n",
        "        print(\"You win! 🎉\")\n",
        "        user_score=user_score+1\n",
        "    else:\n",
        "        print(\"Computer wins! 💻\")\n",
        "        computer=computer+1\n"
      ]
    },
    {
      "cell_type": "code",
      "source": [],
      "metadata": {
        "id": "KU8lcwQ8fArz"
      },
      "execution_count": null,
      "outputs": []
    }
  ]
}
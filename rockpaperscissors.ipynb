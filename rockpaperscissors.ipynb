{
  "nbformat": 4,
  "nbformat_minor": 0,
  "metadata": {
    "colab": {
      "provenance": [],
      "authorship_tag": "ABX9TyNEs3Apx7diwLgYN+XMfoXC",
      "include_colab_link": true
    },
    "kernelspec": {
      "name": "python3",
      "display_name": "Python 3"
    },
    "language_info": {
      "name": "python"
    }
  },
  "cells": [
    {
      "cell_type": "markdown",
      "metadata": {
        "id": "view-in-github",
        "colab_type": "text"
      },
      "source": [
        "<a href=\"https://colab.research.google.com/github/Sidgoyal0413/rock-paper-scissors/blob/main/rockpaperscissors.ipynb\" target=\"_parent\"><img src=\"https://colab.research.google.com/assets/colab-badge.svg\" alt=\"Open In Colab\"/></a>"
      ]
    },
    {
      "cell_type": "code",
      "execution_count": 1,
      "metadata": {
        "colab": {
          "base_uri": "https://localhost:8080/",
          "height": 238
        },
        "id": "qEO_-i2cau_F",
        "outputId": "0203e93b-24ae-4140-87ec-9d88ed1f6c16"
      },
      "outputs": [
        {
          "output_type": "stream",
          "name": "stdout",
          "text": [
            "Enter rock, paper, or scissors (or 'quit' to stop): rock\n",
            "Computer chose: paper\n",
            "Computer wins! 💻\n"
          ]
        },
        {
          "output_type": "error",
          "ename": "TypeError",
          "evalue": "can only concatenate str (not \"int\") to str",
          "traceback": [
            "\u001b[0;31m---------------------------------------------------------------------------\u001b[0m",
            "\u001b[0;31mTypeError\u001b[0m                                 Traceback (most recent call last)",
            "\u001b[0;32m/tmp/ipython-input-4165306539.py\u001b[0m in \u001b[0;36m<cell line: 0>\u001b[0;34m()\u001b[0m\n\u001b[1;32m     30\u001b[0m     \u001b[0;32melse\u001b[0m\u001b[0;34m:\u001b[0m\u001b[0;34m\u001b[0m\u001b[0;34m\u001b[0m\u001b[0m\n\u001b[1;32m     31\u001b[0m         \u001b[0mprint\u001b[0m\u001b[0;34m(\u001b[0m\u001b[0;34m\"Computer wins! 💻\"\u001b[0m\u001b[0;34m)\u001b[0m\u001b[0;34m\u001b[0m\u001b[0;34m\u001b[0m\u001b[0m\n\u001b[0;32m---> 32\u001b[0;31m         \u001b[0mcomputer\u001b[0m\u001b[0;34m=\u001b[0m\u001b[0mcomputer\u001b[0m\u001b[0;34m+\u001b[0m\u001b[0;36m1\u001b[0m\u001b[0;34m\u001b[0m\u001b[0;34m\u001b[0m\u001b[0m\n\u001b[0m",
            "\u001b[0;31mTypeError\u001b[0m: can only concatenate str (not \"int\") to str"
          ]
        }
      ],
      "source": [
        "import random\n",
        "\n",
        "choices=[\"rock\", \"paper\", \"scissors\"]\n",
        "tie=0\n",
        "user=0\n",
        "computer=0\n",
        "while True:\n",
        "\n",
        "    user=input(\"Enter rock, paper, or scissors (or 'quit' to stop): \").lower()\n",
        "    if user==\"quit\":\n",
        "        print(\"Thanks for playing!\")\n",
        "        break\n",
        "    if user not in choices:\n",
        "        print(\"Invalid choice. Try again!\")\n",
        "        continue\n",
        "\n",
        "\n",
        "    computer=random.choice(choices)\n",
        "    print(f\"Computer chose: {computer}\")\n",
        "\n",
        "\n",
        "    if user==computer:\n",
        "        print(\"It's a tie!\")\n",
        "        tie=tie+1\n",
        "    elif (user==\"rock\" and computer == \"scissors\") or \\\n",
        "         (user==\"paper\" and computer == \"rock\") or \\\n",
        "         (user==\"scissors\" and computer == \"paper\"):\n",
        "        print(\"You win! 🎉\")\n",
        "        user=user+1\n",
        "    else:\n",
        "        print(\"Computer wins! 💻\")\n",
        "        computer=computer+1\n"
      ]
    },
    {
      "cell_type": "code",
      "source": [],
      "metadata": {
        "id": "KU8lcwQ8fArz"
      },
      "execution_count": null,
      "outputs": []
    }
  ]
}